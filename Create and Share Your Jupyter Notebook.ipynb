{
    "cells": [
        {
            "cell_type": "markdown",
            "metadata": {
                "collapsed": true
            },
            "source": "# My Jupyter Notebook on IBM Watson Studio"
        },
        {
            "cell_type": "markdown",
            "metadata": {},
            "source": "**Anton Sebastian**"
        },
        {
            "cell_type": "markdown",
            "metadata": {},
            "source": "Quantitative Analyst"
        },
        {
            "cell_type": "markdown",
            "metadata": {},
            "source": "*I am interested in Data Science to build understanding of data sciecne frameworks that I can potentionally use for future employment and academic opportunities.*"
        },
        {
            "cell_type": "markdown",
            "metadata": {},
            "source": "### The following code prints the transcedental number e rounded to 3 decimal places"
        },
        {
            "cell_type": "code",
            "execution_count": 3,
            "metadata": {},
            "outputs": [
                {
                    "name": "stdout",
                    "output_type": "stream",
                    "text": "2.718\n"
                }
            ],
            "source": "import math\nprint(round(math.e,3))"
        },
        {
            "cell_type": "markdown",
            "metadata": {},
            "source": "| **e**  | **pi**  | **tau** |\n| ------- | ------- | ------- |\n|**2.718**|**3.142**|**6.283**|\n\n---\n                                    \n~~PI > TAU~~"
        },
        {
            "cell_type": "code",
            "execution_count": null,
            "metadata": {},
            "outputs": [],
            "source": ""
        }
    ],
    "metadata": {
        "kernelspec": {
            "display_name": "Python 3.9",
            "language": "python",
            "name": "python3"
        },
        "language_info": {
            "codemirror_mode": {
                "name": "ipython",
                "version": 3
            },
            "file_extension": ".py",
            "mimetype": "text/x-python",
            "name": "python",
            "nbconvert_exporter": "python",
            "pygments_lexer": "ipython3",
            "version": "3.9.12"
        }
    },
    "nbformat": 4,
    "nbformat_minor": 1
}